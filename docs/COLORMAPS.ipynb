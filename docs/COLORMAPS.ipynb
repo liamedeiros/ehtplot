{
 "cells": [
  {
   "cell_type": "markdown",
   "metadata": {},
   "source": [
    "# Colormaps\n",
    "\n",
    "This Jupyter Notebook describes the rationale for developing the `ehtplot.color` submodule in `ehtplot`.  Before we get into the actual content, let's customize Jupyter so this notebook is easier to read and use."
   ]
  },
  {
   "cell_type": "code",
   "execution_count": null,
   "metadata": {},
   "outputs": [],
   "source": [
    "# Enable autoreload for easy module development\n",
    "%load_ext autoreload\n",
    "%autoreload 2"
   ]
  },
  {
   "cell_type": "markdown",
   "metadata": {},
   "source": [
    "## 0. Contents:\n",
    "<a id=\"sec0\"></a>\n",
    "\n",
    "- [0. Contents](#sec0)\n",
    "- [1. Background](#sec1)\n",
    "- [2. Basic Requirements](#sec2)\n",
    "- [3. Color Models and Color Spaces](#sec3)\n",
    "- [4. Color Appearance Parameters](#sec4)\n",
    "- [5. General Guidance](#sec5)\n",
    "- [6. Colormap Inspection](#sec6)\n",
    "- [7. Colormap Uniformization](#sec7)\n",
    "- [8. Colormap Symmetrization](#sec8)\n",
    "- [A. Appendix: List of Modified Colormaps](#secA)"
   ]
  },
  {
   "cell_type": "markdown",
   "metadata": {},
   "source": [
    "## 1. Background\n",
    "<a id=\"sec1\"></a>\n",
    "\n",
    "The [Event Horizon Telescope (EHT)](https://eventhorizontelescope.org/) is a Very-long-baseline interferometry (VLBI) experiment aiming at capturing the first pictures of black holes.  While an image is worth a thousand words, the interpretation of an image is subjective.  The presentation of an image can strongly affect how human eyes identify features.  This is especially true for two-dimensional intensity maps, where the value of each pixel is represented by a color.  A poorly chosen colormap between values and colors can fool the human eyes to, e.g., pick out non-existing features, or to hide important features.\n",
    "\n",
    "In order to present the resulting images of the EHT as accurate as possible, we take into account how human eyes work and provide some guidance on the colormap usages in different situations."
   ]
  },
  {
   "cell_type": "markdown",
   "metadata": {},
   "source": [
    "## 2. Basic Requirements\n",
    "<a id=\"sec2\"></a>\n",
    "\n",
    "Without going into too much detail, a good colormap for scientific representation of a scalar image should:\n",
    "\n",
    "1. give readers a correct sense on the scalar values (intensities) in the image;\n",
    "\n",
    "2. not artificially show features that do not exist;\n",
    "\n",
    "3. not intentionally hide features that exist;\n",
    "\n",
    "4. be effective in communicating scientific messages;\n",
    "\n",
    "5. be device-independent.\n",
    "\n",
    "We summarize some works on human visual perceptual and standards created by the [International Commission on Illumination (ICE)](https://en.wikipedia.org/wiki/International_Commission_on_Illumination) below.  We will then use this basic knowledge to derive general guidance on deriving and using colormaps."
   ]
  },
  {
   "cell_type": "markdown",
   "metadata": {},
   "source": [
    "## 3. Color Models and Color Spaces\n",
    "<a id=\"sec3\"></a>\n",
    "\n",
    "The \"raw\" [RGB](https://en.wikipedia.org/wiki/RGB_color_model) and [CMYK](https://en.wikipedia.org/wiki/CMYK_color_model) [color models](https://en.wikipedia.org/wiki/Color_model) are device-dependent.  In order to describe device-independent color, companies create \"standardized\" [color spaces](https://en.wikipedia.org/wiki/Color_space) such as [sRGB](https://en.wikipedia.org/wiki/SRGB) (standard RGB by HP and Microsoft) and [Adobe RGB](https://en.wikipedia.org/wiki/Adobe_RGB_color_space). A [color profile](https://en.wikipedia.org/wiki/ICC_profile), either characterizes a device or a color space, can then be used to accurately map the color in an image to a device.\n",
    "\n",
    "The [CIELAB](https://en.wikipedia.org/wiki/CIELAB_color_space) (also CIE L\\*a\\*b\\*, hereafter Lab) color space, introduced by the CIE in 1976, was the first attempt to take into account the perceptual aspects of human vision.  Here, L\\* is the lightness; a\\* and b\\* are the green-red and blue-yellow color components.  The [CIECAM02](https://en.wikipedia.org/wiki/CIECAM02) [color appearance model (CAM)](https://en.wikipedia.org/wiki/Color_appearance_model) published by the CIE in 2002 defines six color appearances: brightness Q, lightness J, colorfulness M, chroma C, saturation s, and hue h.  And the [iCAM06](https://en.wikipedia.org/wiki/Color_appearance_model#iCAM06) model is capable of handling spatial appearance phenomena such as contrast.\n",
    "\n",
    "In 2006, [Luo et al.](https://www.researchgate.net/publication/229879898_Uniform_colour_spaces_based_on_CIECAMO2_colour_appearance_model) introduced three modifications to CIECAM02 to make it more uniform.  The CAM02-UCS, stands for \"Uniform Colour Space\", is not popular in computer graphics.  Its three coordinates are usually denoted by J', a', and b'.  And its cylindrical coordinates are J', C', and h'.\n",
    "\n",
    "It is useful to transform the Cartesian Lab and CIECAM02 color spaces to the cylindrical [CIELCh](https://en.wikipedia.org/wiki/CIELAB_color_space#Cylindrical_representation:_CIELCh_or_CIEHLC) (hereafter LCh) and CIEJCh (hereafter JCh) color spaces which have coordinates L\\*, J\\*, C\\*, and h. The lightness coordinates L\\* and J\\* are identical to Lab and Jab.  The chroma (relative saturation) C\\* and hue h (in degree h°) are simply `C* = sqrt(a*^2 + b*^2)` and `h = atan2(b*, a*)` according to Redness-Greenness a and Yellowness-Blueness b in their own coordinates."
   ]
  },
  {
   "cell_type": "markdown",
   "metadata": {},
   "source": [
    "## 4. Color Appearance Parameters\n",
    "<a id=\"sec4\"></a>\n",
    "\n",
    "We ignore spatial appearance phenomena and consider only the six color appearance parameters defined by CIECAM02.  They can be grouped into three classes, corresponding to the three coordinates of LCh:\n",
    "\n",
    "- [Brightness](https://en.wikipedia.org/wiki/Brightness) and   [lightness](https://en.wikipedia.org/wiki/Lightness): they are the   extrinsic and intrinsic \"tones\" or \"values\", respectively.\n",
    "\n",
    "- [Colorfulness](https://en.wikipedia.org/wiki/Colorfulness), [chroma](https://en.wikipedia.org/wiki/Colorfulness#Chroma_in_CIE_1976_L*a*b*_and_L*u*v*_color_spaces), and [saturation](https://en.wikipedia.org/wiki/Colorfulness#Saturation): colorfulness and chroma are, roughly speaking, the extrinsic and intrinsic difference between a color and gray of an object, respectively.  Saturation is the colorfulness of a color relative to its own brightness.\n",
    "\n",
    "- [Hue](https://en.wikipedia.org/wiki/Hue): \"the degree to which a stimulus can be described as similar to or different from stimuli that are described as red, green, blue, and yellow.\"  Note that the CIELCh hue and (s)RGB hue `h_rgb = atan2(sqrt(3) * (G-B), 2*R - G - B)` are not equivalent.\n",
    "\n",
    "It is important to note that the above terms can be defined very differently in different context.  For example, RGB brightness is defined as `(R + G + B) / 3`, which is completely different than CIECAM02 brightness."
   ]
  },
  {
   "cell_type": "markdown",
   "metadata": {},
   "source": [
    "## 5. General Guidance\n",
    "<a id=\"sec5\"></a>\n",
    "\n",
    "In response to the above requirements, at minimal,\n",
    "\n",
    "- we need to use *perceptually uniform colormaps*\n",
    "\n",
    "so that the lightness of the color in an image is a fair representation of its scalar values.  While visual perception is a complex science, the CAM02-UCS lightness J' should serve us as a good approximation for generating perceptually uniform colormaps.  In fact, linearity in J' is used as the working definition of Perceptually Uniform Sequential colormaps by [matplotlib](https://matplotlib.org/users/colormaps.html).\n",
    "\n",
    "Since chrominance is a two-dimensional quantity, we can use the different dimensions for different purposes.  Being independent of lightness and chroma and easily recognized,\n",
    "\n",
    "- *hue h' can encode an additional physical quantity* in an image (when used in this way, the change of hue should be linearly proportional to the quantity);\n",
    "\n",
    "- *hue h' is also ideal for making an image more attractive* without interfering with the representation of pixel values.\n",
    "\n",
    "The other dimension chroma is less recognizable and should not be used to encode physical information.  Since sRGB is only a subset of the Lab color space, there are human recognizable color that are not displayable.  In order to accurately represent the physical quantities,\n",
    "\n",
    "- if a color is not displayable, one should preserve its lightness J' and hue h', and adjust its chroma C'.\n",
    "\n",
    "- *saturation s' is also useful to place focus of an image* without affecting the representation of the physical quantities.\n",
    "\n",
    "Given that human eyes are less sensitive to color in low light,\n",
    "\n",
    "- if color is used to encode an additional physical quantity in a figure, the *colormap may start (or end) at non-zero lightness*.\n",
    "\n",
    "Finally, sRGB is often the default image color space for modern softwares.  That is, if we save an image without a color profile, it is often interpreted as in sRGB with [gamma](https://en.wikipedia.org/wiki/Gamma_correction) 2.2.  Therefore, we should\n",
    "\n",
    "- convert colormaps to sRGB with gamma 2.2, and then save the resulting images without any color profile."
   ]
  },
  {
   "cell_type": "markdown",
   "metadata": {},
   "source": [
    "## 6. Colormap Inspection\n",
    "<a id=\"sec6\"></a>\n",
    "\n",
    "With all the above discussion, we are finally at a point to look into colormaps.  Let's first load up matplotlib and find out what colormaps are available:"
   ]
  },
  {
   "cell_type": "code",
   "execution_count": null,
   "metadata": {},
   "outputs": [],
   "source": [
    "import matplotlib.pyplot as plt\n",
    "\n",
    "colormaps = plt.colormaps()\n",
    "\n",
    "print(\", \".join(colormaps))\n",
    "print(\"{} colormaps in total\".format(len(colormaps)))"
   ]
  },
  {
   "cell_type": "markdown",
   "metadata": {},
   "source": [
    "There are 164 built-in colormaps.  Most of them are actually not perceptually uniform.  To check this, let's define a plotting function with helps from `ehtplot.color.vis`"
   ]
  },
  {
   "cell_type": "code",
   "execution_count": null,
   "metadata": {},
   "outputs": [],
   "source": [
    "import ehtplot as eht\n",
    "\n",
    "fig = eht.plot(cmap=['hot', 'afmhot', 'inferno'], figsize=(9, 3))\n",
    "fig.draw()"
   ]
  },
  {
   "cell_type": "markdown",
   "metadata": {},
   "source": [
    "Here, we look at three popular warm colormaps: `hot`, `afmhot`, and `inferno`.  The thick colorful curves are the lightness J', the black dashed lines are the chroma C', and the black dots are the hue h'.\n",
    "\n",
    "It is clear that the popular `hot` and `afmhot` colormaps are not J'-linear, while `inferno` is.  It is interesting that both `hot` and `afmhot` are almost linear in the low J' regime, and become flat in the high J' regime---we will have a discussion about this in the next section.  The colormaps' peak chroma decreases from `hot`, to `afmhot`, and `inferno`.  In layperson's terms, this means that `hot` is the \"sharpest\" or \"brightest\" colormap, while `inferno` is the \"flattest\".  Finally, according to the hue curve, none of above colormaps is in a single color---they actually transit from red (for `hot` and `afmhot`) or blue (for `inferno`) to yellow in different ways.  Also, the `hot` chroma curve is very uneven and not even bi-tonic.  It saturates at red and yellow.  The `afmhot` chroma is at least bi-tonic.  And the `inferno` colormap's chroma is both smooth and bi-tonic.\n",
    "\n",
    "To demonstrate how non-uniform colormaps can lead to faulty feature extraction, we create a pyramid function and plot it with different colormaps.  In the ideal situation, our eyes should only pick out the corners in the pyramid.  That is, we should pick out a cross \"X\" in the image, in addition to the color gradient."
   ]
  },
  {
   "cell_type": "code",
   "execution_count": null,
   "metadata": {},
   "outputs": [],
   "source": [
    "cmaps = ['hot', 'hot_r', 'afmhot', 'afmhot_r', 'inferno', 'inferno_r']\n",
    "fig = eht.plot(cmap=cmaps, type='pyramid', figsize=(12, 2))\n",
    "fig.draw()"
   ]
  },
  {
   "cell_type": "markdown",
   "metadata": {},
   "source": [
    "The above figure shows the visualization using matplotlib's built-in colormaps.  For `hot` and `hot_r`, we artificially see red and yellow squares in them.  If we go back to the J'(v) plots, we can identify that these squares come from features in J'.  These artifacts are much weaker in `afmhot` and `afmhot_r`, although we can still see a yellow, orange, and brown squares them, which correspond to the features in their J' curves.  Being J'-linear, the square artifacts are weakest in `inferno` and `inferno_r`, although it is still possible to identify orange and purple squares because of the color transitions.\n",
    "\n",
    "To see how good/bad these colormaps are, let's load up some components of a Principal Component Analysis (PCA) of a numerical simulation of a black hole (see [Medeiros et al. 2018](http://adsabs.harvard.edu/abs/2018ApJ...864....7M)) and plot them in the `inferno`, `hot`, and `afmhot` colormaps."
   ]
  },
  {
   "cell_type": "code",
   "execution_count": null,
   "metadata": {},
   "outputs": [],
   "source": [
    "import numpy as np\n",
    "from ehtplot.extra import io\n",
    "\n",
    "pca0 = io.open(\"../examples/sample\", component=\"pca0\")\n",
    "pca1 = io.open(\"../examples/sample\", component=\"pca1\")\n",
    "\n",
    "def plotimg(ax, img, *cmap, label=None):\n",
    "    cmap = ''.join(cmap)\n",
    "\n",
    "    vmax = np.max(img)\n",
    "    vmin = np.min(img)\n",
    "    if vmin >= 0.0:\n",
    "        vmin = 0.0\n",
    "    else:\n",
    "        vmin = -max(vmax, -vmin)\n",
    "\n",
    "    ax.imshow(img, origin='lower', cmap=cmap, vmin=vmin, vmax=vmax)\n",
    "    ax.set_xticks([])\n",
    "    ax.set_xticklabels([])\n",
    "    ax.set_yticks([])\n",
    "    ax.set_yticklabels([])\n",
    "    ax.set_title(cmap)\n",
    "\n",
    "fig = eht.plot(plotimg, [pca0, pca1], [cmaps], title=['PCA0, PCA1'], figsize=(12,4))\n",
    "fig.draw()"
   ]
  },
  {
   "cell_type": "markdown",
   "metadata": {},
   "source": [
    "The panels above plot the same images (0th PCA component in top row, 1st PCA component in bottom row) in `hot`, `hot_r`, `afmhot`, `afmhot_r`, `inferno`, and `inferno_r`.  The `_r` postfixed colormaps are simply reversed of their non-`_r` counter parts.\n",
    "\n",
    "Although the accretion funnel, shown in light yellow in `hot_r` and `afmhot_r`, is difficult to see in both `hot`, `afmhot`, it is still more visible in the `_r` colormaps than non-`_r` colormaps.  Similar effect is also seen in `inferno_r` and `inferno`, where we can identify the brown funnel in `inferno_r` but difficult to pick out the very dark funnel in `inferno`.  This is indeed a consequence of our eyes being less sensitive to color in dim light."
   ]
  },
  {
   "cell_type": "markdown",
   "metadata": {},
   "source": [
    "## 7. Colormap Uniformization\n",
    "<a id=\"sec7\"></a>\n",
    "\n",
    "As demonstrated by the pyramid function above, non-uniformity in lightness is the main reason for faulty feature extraction from images.  To correct for this, we implement a colormap uniformization algorithm in `ehtplot` to redistribute colors in a colormap.  The resulting colormap is J'-linear and it contains only color in the original colormap.\n",
    "\n",
    "Actually, whenever `ehtplot` is loaded, there are 364 new colormaps automatically made available to `matplotlib`."
   ]
  },
  {
   "cell_type": "code",
   "execution_count": null,
   "metadata": {},
   "outputs": [],
   "source": [
    "colormaps = plt.colormaps()\n",
    "print(\"{} colormaps in total\".format(len(colormaps)))"
   ]
  },
  {
   "cell_type": "markdown",
   "metadata": {},
   "source": [
    "The colormap loading mechanism is intentionally designed that it needs only `numpy` and `matplotlib`.  Even if a user doesn't need the plotting features in `ehtplot`, they can still use its colormaps without installing additional python module.\n",
    " \n",
    "Among the 182 new colormaps, 90 of them are uniformized versions of matplotlib's built-in colormaps.  They are postfixed with `_u`.  Note that matplotlib's built-in uniform colormaps `viridis`, `plasma`, `inferno`, `magma`, and `cividis` are not linearized.\n",
    "\n",
    "Here, we plot the uniformized `hot_u` and `afmhot_u` with `inferno`:"
   ]
  },
  {
   "cell_type": "code",
   "execution_count": null,
   "metadata": {},
   "outputs": [],
   "source": [
    "fig = eht.plot('cmap', ['hot_u', 'afmhot_u', 'inferno'], figsize=(9, 3))\n",
    "fig.draw()"
   ]
  },
  {
   "cell_type": "markdown",
   "metadata": {},
   "source": [
    "Now we can replot the pyramid and see why the uniform colormaps are better than their non-uniform counterparts.  The top row is the same as above.  The bottom row shows the pyramid function using `ehtplot`'s uniformized colormaps, while `inferno` and `inferno_r` remain the same."
   ]
  },
  {
   "cell_type": "code",
   "execution_count": null,
   "metadata": {},
   "outputs": [],
   "source": [
    "cmaps_u = ['hot_u', 'hot_ur', 'afmhot_u', 'afmhot_ur', 'inferno', 'inferno_r']\n",
    "fig = eht.plot('cmap', [cmaps, cmaps_u], type='pyramid', title=['Original', 'Uniformized (with \"_u\" postfix)'], figsize=(12, 4))\n",
    "fig.draw()"
   ]
  },
  {
   "cell_type": "markdown",
   "metadata": {},
   "source": [
    "Although some artifacts can still be identified in `hot` and `hot_r` because of the peaks in the chroma C' curve, they are much weaker (hence good) compared to the top row.  In fact, the uniformized `afmhot_u` map `afmhot_ur` shows almost no artifactual square feature, which is in some sense even better than `inferno`.\n",
    "\n",
    "We can perform similar comparison for black hole images."
   ]
  },
  {
   "cell_type": "code",
   "execution_count": null,
   "metadata": {},
   "outputs": [],
   "source": [
    "fig = eht.plot(plotimg, pca0, [cmaps, cmaps_u], title=['Original', 'Uniformized (with \"_u\" postfix)'], figsize=(12,4))\n",
    "fig.draw()"
   ]
  },
  {
   "cell_type": "markdown",
   "metadata": {},
   "source": [
    "Comparing `hot_r` and `afmhot_r` with the uniformized `hot_ur` and `afmhot_ur`, in the high lightness regime, a lot more features (funnel) of the image are now visible.  Comparing `hot_u` with `hot_ur` or `afmhot_u` with `afmhot_ur` indications that the same features are not visible in `hot` and `afmhot`.  This \"asymmetry\" between low and high lightness suggests that linearity in J' is not enough to provide a subjective representation of an image.  In fact, the images are more \"symmetric\" in `hot`-`hot_r` and `afmhot`-`afmhot_r`.  This is an interesting observation that the flattened top of the `hot` and `afmhot` colormaps actually counteracts the effect that colors are less distinguishable in dim light.\n",
    "\n",
    "Since we want to keep the linearity in high J', this suggests that one way to \"symmetrize\" the colormaps is to lift up the lower bound of J'.  Among the colormaps `ehtplot` provides, there are number of them have numbers in their names."
   ]
  },
  {
   "cell_type": "code",
   "execution_count": null,
   "metadata": {},
   "outputs": [],
   "source": [
    "import re\n",
    "\n",
    "numu = re.compile(r'^.*_[0-9]+ur?$')\n",
    "\n",
    "count = 0\n",
    "for cm in colormaps:\n",
    "    if numu.match(cm):\n",
    "        print(cm, end=', ')\n",
    "        count += 1\n",
    "print(\"{} numbered colormaps in total\".format(count))"
   ]
  },
  {
   "cell_type": "markdown",
   "metadata": {},
   "source": [
    "These numbers indicate the percentage level that they are \"lifted\" up.  We can plot these colormaps in order of how much they are lifted.  To my eyes, `afmhot_20u` makes the largest part of the funnel visible, although none of the colormap is perceptually symmetric between bright and dim."
   ]
  },
  {
   "cell_type": "code",
   "execution_count": null,
   "metadata": {},
   "outputs": [],
   "source": [
    "lifted = ['afmhot_u', 'afmhot_10u', 'afmhot_20u', 'afmhot_30u', 'afmhot_40u', 'afmhot_50u']\n",
    "top = eht.panel('cmap', lifted)\n",
    "mid = eht.panel(plotimg, pca0, lifted, title=\"Original\")\n",
    "bot = eht.panel(plotimg, pca0, [cm+'r' for cm in lifted], title=\"Reversed\")\n",
    "fig = eht.plot(bot, mid, top, inrow=False, figsize=(12, 6))\n",
    "fig.draw()"
   ]
  },
  {
   "cell_type": "markdown",
   "metadata": {},
   "source": [
    "## 8. Colormap Symmetrization\n",
    "<a id=\"sec8\"></a>\n",
    "\n",
    "Given that lifting the lightness floor of a colormap cannot completely resolve the asymmetry between high and low lightness, we need to adjust another quality.  From the above plot, one of the most distinguishable asymmetric feature is the jump in chroma C' near value 1.0.  Hence, our next natural modification to matplotlib colormap is to symmetrize chroma C'.\n",
    "\n",
    "Because sRGB only cover part of the Lab colorspace, it we use standard mathematical symmetrization, i.e., C'' = (C' + revert(C'))/2, then large parts of the symmetrized colormap will become irrenderable.  Hence, we take the more conservative approach to use C'' = pointwisemin(C', revert(C')).  This makes most parts of the colormap renderable except very few color with high lightness and low chroma.  To address these exceptions, we introduce a softening constant and clip the color tables.\n",
    "\n",
    "Symmetrized colormaps are postfixed with `_s`.  To see their effects, we replot the black hole image in them:"
   ]
  },
  {
   "cell_type": "code",
   "execution_count": null,
   "metadata": {},
   "outputs": [],
   "source": [
    "symmetrized = [cm+\"s\" for cm in lifted]\n",
    "top = eht.panel('cmap', symmetrized)\n",
    "mid = eht.panel(plotimg, pca0, symmetrized, title=\"Original\")\n",
    "bot = eht.panel(plotimg, pca0, [cm+'r' for cm in symmetrized], title=\"Reversed\")\n",
    "fig = eht.plot(bot, mid, top, inrow=False, figsize=(12, 6))\n",
    "fig.draw()"
   ]
  },
  {
   "cell_type": "markdown",
   "metadata": {},
   "source": [
    "The strong difference in chroma makes the funnel visible starting in `afmhot_10us`."
   ]
  },
  {
   "cell_type": "markdown",
   "metadata": {},
   "source": [
    "## A. Appendix: List of Modified Colormaps\n",
    "<a id=\"secA\"></a>\n",
    "\n",
    "The colormaps made available by `ehtplot` are all modifications of `matplotlib`'s built-in colormaps.  We list all of them alongside the original ones in this appendix:"
   ]
  },
  {
   "cell_type": "code",
   "execution_count": null,
   "metadata": {},
   "outputs": [],
   "source": [
    "colormaps = list(reversed([\"Greys\", \"Purples\", \"Blues\", \"Greens\", \"Oranges\", \"Reds\"]))\n",
    "postfixes = [\"\", \"_u\", \"_lu\", \"_lus\", \"_lusr\", \"_lur\", \"_ur\", \"_r\"]\n",
    "\n",
    "fig = eht.plot(plotimg, pca0, colormaps, [postfixes], figsize=(len(postfixes), len(colormaps)))\n",
    "fig.draw()"
   ]
  },
  {
   "cell_type": "code",
   "execution_count": null,
   "metadata": {},
   "outputs": [],
   "source": [
    "colormaps = list(reversed([\"OrRd\", \"PuRd\", \"RdPu\", \"BuPu\", \"GnBu\", \"PuBu\", \"BuGn\", \"YlGn\"]))\n",
    "postfixes = [\"\", \"_u\", \"_lu\", \"_lus\", \"_lusr\", \"_lur\", \"_ur\", \"_r\"]\n",
    "fig = eht.plot(plotimg, pca0, colormaps, [postfixes], figsize=(len(postfixes), len(colormaps)))\n",
    "fig.draw()"
   ]
  },
  {
   "cell_type": "code",
   "execution_count": null,
   "metadata": {},
   "outputs": [],
   "source": [
    "colormaps = list(reversed([\"YlOrBr\", \"YlOrRd\", \"YlGnBu\", \"PuBuGn\"]))\n",
    "postfixes = [\"\", \"_u\", \"_lu\", \"_lus\", \"_lusr\", \"_lur\", \"_ur\", \"_r\"]\n",
    "fig = eht.plot(plotimg, pca0, colormaps, [postfixes], figsize=(len(postfixes), len(colormaps)))\n",
    "fig.draw()"
   ]
  },
  {
   "cell_type": "code",
   "execution_count": null,
   "metadata": {},
   "outputs": [],
   "source": [
    "colormaps = list(reversed([\"binary\", \"gist_yarg\", \"Wistia\"]))\n",
    "postfixes = [\"\", \"_u\", \"_us\", \"_usr\", \"_ur\", \"_r\"]\n",
    "fig = eht.plot(plotimg, pca0, colormaps, [postfixes], figsize=(len(postfixes), len(colormaps)))\n",
    "fig.draw()"
   ]
  },
  {
   "cell_type": "code",
   "execution_count": null,
   "metadata": {},
   "outputs": [],
   "source": [
    "colormaps = list(reversed([\"gist_gray\", \"gray\", \"bone\", \"pink\"]))\n",
    "postfixes = [\"\", \"_u\", \"_us\", \"_usr\", \"_ur\", \"_r\"]\n",
    "fig = eht.plot(plotimg, pca0, colormaps, [postfixes], figsize=(len(postfixes), len(colormaps)))\n",
    "fig.draw()"
   ]
  },
  {
   "cell_type": "code",
   "execution_count": null,
   "metadata": {},
   "outputs": [],
   "source": [
    "colormaps = list(reversed([\"summer\", \"autumn\"]))\n",
    "postfixes = [\"\", \"_u\", \"_us\", \"_usr\", \"_ur\", \"_r\"]\n",
    "fig = eht.plot(plotimg, pca0, colormaps, [postfixes], figsize=(len(postfixes), len(colormaps)))\n",
    "fig.draw()"
   ]
  },
  {
   "cell_type": "code",
   "execution_count": null,
   "metadata": {},
   "outputs": [],
   "source": [
    "colormaps = list(reversed([\"hot\", \"afmhot\", \"gist_heat\", \"copper\"]))\n",
    "postfixes = [\"\", \"_u\", \"_us\", \"_usr\", \"_ur\", \"_r\"]\n",
    "fig = eht.plot(plotimg, pca0, colormaps, [postfixes], figsize=(len(postfixes), len(colormaps)))\n",
    "fig.draw()"
   ]
  },
  {
   "cell_type": "code",
   "execution_count": null,
   "metadata": {},
   "outputs": [],
   "source": [
    "colormaps = list(reversed([\"gnuplot2\", \"cubehelix\"]))\n",
    "postfixes = [\"\", \"_u\", \"_us\", \"_usr\", \"_ur\", \"_r\"]\n",
    "fig = eht.plot(plotimg, pca0, colormaps, [postfixes], figsize=(len(postfixes), len(colormaps)))\n",
    "fig.draw()"
   ]
  },
  {
   "cell_type": "code",
   "execution_count": null,
   "metadata": {},
   "outputs": [],
   "source": [
    "colormaps = list(reversed([\"PiYG\", \"PRGn\", \"BrBG\", \"PuOr\", \"RdGy\", \"RdBu\"]))\n",
    "postfixes = [\"\", \"_u\", \"_lu\", \"_lus\", \"_lusr\", \"_lur\", \"_ur\", \"_r\"]\n",
    "fig = eht.plot(plotimg, pca1, colormaps, [postfixes], figsize=(len(postfixes), len(colormaps)))\n",
    "fig.draw()"
   ]
  },
  {
   "cell_type": "code",
   "execution_count": null,
   "metadata": {},
   "outputs": [],
   "source": [
    "colormaps = list(reversed([\"RdYlBu\", \"RdYlGn\"]))\n",
    "postfixes = [\"\", \"_u\", \"_lu\", \"_lus\", \"_lusr\", \"_lur\", \"_ur\", \"_r\"]\n",
    "fig = eht.plot(plotimg, pca1, colormaps, [postfixes], figsize=(len(postfixes), len(colormaps)))\n",
    "fig.draw()"
   ]
  },
  {
   "cell_type": "code",
   "execution_count": null,
   "metadata": {},
   "outputs": [],
   "source": [
    "colormaps = list(reversed([\"Spectral\", \"coolwarm\", \"bwr\", \"seismic\"]))\n",
    "postfixes = [\"\", \"_u\", \"_us\", \"_usr\", \"_ur\", \"_r\"]\n",
    "fig = eht.plot(plotimg, pca1, colormaps, [postfixes], figsize=(len(postfixes), len(colormaps)))\n",
    "fig.draw()"
   ]
  },
  {
   "cell_type": "code",
   "execution_count": null,
   "metadata": {},
   "outputs": [],
   "source": [
    "colormaps = list(reversed([\"gray\", \"hot\", \"afmhot\", \"gist_heat\"]))\n",
    "postfixes = [\"\", \"_u\", \"_10u\", \"_20u\", \"_30u\", \"_40u\", \"_50u\",\n",
    "             \"_us\", \"_10us\", \"_20us\", \"_30us\", \"_40us\", \"_50us\",\n",
    "             \"_50usr\", \"_40usr\", \"_30usr\", \"_20usr\", \"_10usr\", \"_usr\",\n",
    "             \"_50ur\", \"_40ur\", \"_30ur\", \"_20ur\", \"_10ur\", \"_ur\", \"_r\"]\n",
    "fig = eht.plot(plotimg, pca0, colormaps, [postfixes], figsize=(len(postfixes), len(colormaps)))\n",
    "fig.draw()"
   ]
  },
  {
   "cell_type": "code",
   "execution_count": null,
   "metadata": {},
   "outputs": [],
   "source": []
  }
 ],
 "metadata": {
  "kernelspec": {
   "display_name": "Python 3",
   "language": "python",
   "name": "python3"
  },
  "language_info": {
   "codemirror_mode": {
    "name": "ipython",
    "version": 3
   },
   "file_extension": ".py",
   "mimetype": "text/x-python",
   "name": "python",
   "nbconvert_exporter": "python",
   "pygments_lexer": "ipython3",
   "version": "3.7.2"
  }
 },
 "nbformat": 4,
 "nbformat_minor": 2
}
